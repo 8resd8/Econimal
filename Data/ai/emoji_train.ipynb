{
 "cells": [
  {
   "cell_type": "code",
   "execution_count": 10,
   "id": "0b29564e-32bb-46dc-9b02-b0b7ebf8b43b",
   "metadata": {},
   "outputs": [
    {
     "name": "stdout",
     "output_type": "stream",
     "text": [
      "Index(['description', 'tagged_description'], dtype='object')\n",
      "                   description              tagged_description emoji\n",
      "0  에어컨을 26도로 설정하고 필요한 시간에만 켠다.  ❄️ 에어컨을 26도로 설정하고 필요한 시간에만 켠다.     ❄\n",
      "1      집 안의 모든 조명을 형광등으로 유지한다.       💡 집 안의 모든 조명을 형광등으로 유지한다.     💡\n",
      "2   세탁물을 모아서 세탁기를 주 2~3회만 돌린다.     🧺세탁물을 모아서 세탁기를 주 2~3회만 돌린다.     🧺\n",
      "3       전기밥솥 보온 기능을 하루 종일 켜둔다.        🔌 전기밥솥 보온 기능을 하루 종일 켜둔다.     🔌\n",
      "4     사용하지 않는 전자제품의 플러그를 뽑아둔다.      🔌 사용하지 않는 전자제품의 플러그를 뽑아둔다.     🔌\n"
     ]
    }
   ],
   "source": [
    "import pandas as pd\n",
    "\n",
    "# CSV 파일 불러오기\n",
    "data = pd.read_csv(\"./bulkdata/add_emoji.csv\")\n",
    "print(data.columns)  # 컬럼 확인: description, tagged_description\n",
    "\n",
    "# tagged_description 컬럼의 맨 앞 글자를 이모지로 간주하여 새로운 컬럼 생성\n",
    "data['emoji'] = data['tagged_description'].str[0]\n",
    "\n",
    "# 결과 확인\n",
    "print(data[['description', 'tagged_description', 'emoji']].head())\n"
   ]
  },
  {
   "cell_type": "code",
   "execution_count": 12,
   "id": "a1849944-6cda-4c63-9492-58218e2455c7",
   "metadata": {},
   "outputs": [
    {
     "name": "stdout",
     "output_type": "stream",
     "text": [
      "라벨 인코딩 결과: {'❄': 0, '💡': 1, '🧺': 2, '🔌': 3, '💧': 4, '🗑': 5, '🔥': 6, '🛢': 7}\n"
     ]
    }
   ],
   "source": [
    "# 이모지 라벨 인코딩 (유니크한 이모지에 번호 부여)\n",
    "emoji_to_idx = {emoji: idx for idx, emoji in enumerate(data['emoji'].unique())}\n",
    "idx_to_emoji = {idx: emoji for emoji, idx in emoji_to_idx.items()}\n",
    "\n",
    "# 라벨 컬럼 추가\n",
    "data['label'] = data['emoji'].apply(lambda x: emoji_to_idx[x])\n",
    "\n",
    "print(\"라벨 인코딩 결과:\", emoji_to_idx)\n"
   ]
  },
  {
   "cell_type": "code",
   "execution_count": 13,
   "id": "465889b1-f04f-4a00-af2e-569c84dfe185",
   "metadata": {},
   "outputs": [],
   "source": [
    "from sentence_transformers import SentenceTransformer\n",
    "\n",
    "# 사전 학습된 모델 선택\n",
    "model_name = \"paraphrase-MiniLM-L6-v2\"\n",
    "embedder = SentenceTransformer(model_name)\n",
    "\n",
    "# description 컬럼에 대해 임베딩 계산 후 컬럼에 저장\n",
    "data['embedding'] = data['description'].apply(lambda x: embedder.encode(x))"
   ]
  },
  {
   "cell_type": "code",
   "execution_count": 14,
   "id": "3bed7d18-3a88-4faf-ab55-b574b19c2b7e",
   "metadata": {},
   "outputs": [],
   "source": [
    "import torch\n",
    "from torch.utils.data import Dataset, DataLoader\n",
    "\n",
    "class EmojiDataset(Dataset):\n",
    "    def __init__(self, df):\n",
    "        self.embeddings = list(df['embedding'])\n",
    "        self.labels = list(df['label'])\n",
    "        \n",
    "    def __len__(self):\n",
    "        return len(self.labels)\n",
    "    \n",
    "    def __getitem__(self, idx):\n",
    "        embedding = torch.tensor(self.embeddings[idx], dtype=torch.float)\n",
    "        label = torch.tensor(self.labels[idx], dtype=torch.long)\n",
    "        return embedding, label\n",
    "\n",
    "dataset = EmojiDataset(data)\n",
    "dataloader = DataLoader(dataset, batch_size=32, shuffle=True)\n"
   ]
  },
  {
   "cell_type": "code",
   "execution_count": 25,
   "id": "1eeabadb-a3af-481f-b2f8-17ede28b3041",
   "metadata": {},
   "outputs": [
    {
     "name": "stdout",
     "output_type": "stream",
     "text": [
      "0.11416801810264587\n"
     ]
    }
   ],
   "source": [
    "import torch.nn as nn\n",
    "\n",
    "class EmojiClassifier(nn.Module):\n",
    "    def __init__(self, input_dim, num_classes):\n",
    "        super(EmojiClassifier, self).__init__()\n",
    "        self.fc = nn.Linear(input_dim, num_classes)\n",
    "        \n",
    "    def forward(self, x):\n",
    "        return self.fc(x)\n",
    "\n",
    "# 임베딩 벡터의 차원과 이모지 클래스 수 설정\n",
    "input_dim = len(data['embedding'].iloc[0])\n",
    "num_classes = len(emoji_to_idx)\n",
    "classifier = EmojiClassifier(input_dim, num_classes)\n",
    "\n",
    "# 학습 설정\n",
    "criterion = nn.CrossEntropyLoss()\n",
    "optimizer = torch.optim.Adam(classifier.parameters(), lr=1e-3)\n",
    "num_epochs = 1000  # 데이터 양에 따라 조정\n",
    "\n",
    "# 학습 루프\n",
    "avg_loss = 0\n",
    "for epoch in range(num_epochs):\n",
    "    epoch_loss = 0.0\n",
    "    for batch_embeddings, batch_labels in dataloader:\n",
    "        outputs = classifier(batch_embeddings)\n",
    "        loss = criterion(outputs, batch_labels)\n",
    "        \n",
    "        optimizer.zero_grad()\n",
    "        loss.backward()\n",
    "        optimizer.step()\n",
    "        \n",
    "        epoch_loss += loss.item()\n",
    "    \n",
    "    avg_loss = epoch_loss / len(dataloader)\n",
    "    # print(f\"Epoch {epoch+1}/{num_epochs}, Loss: {avg_loss:.4f}\")\n",
    "print(avg_loss)\n"
   ]
  },
  {
   "cell_type": "code",
   "execution_count": 26,
   "id": "7bb0e880-a8c4-40aa-abfc-026123948b34",
   "metadata": {},
   "outputs": [
    {
     "name": "stdout",
     "output_type": "stream",
     "text": [
      "불러온 데이터 미리보기:\n",
      "   eco_answer_id  eco_quiz_id                  description  exp  \\\n",
      "0              5          164  에어컨을 26도로 설정하고 필요한 시간에만 켠다.   20   \n",
      "1              6          164      집 안의 모든 조명을 형광등으로 유지한다.  -15   \n",
      "2              7          164  🧺세탁물을 모아서 세탁기를 주 2~3회만 돌린다.   12   \n",
      "3              8          164       전기밥솥 보온 기능을 하루 종일 켜둔다.   -8   \n",
      "4              9          164     사용하지 않는 전자제품의 플러그를 뽑아둔다.   10   \n",
      "\n",
      "            created_at           updated_at  \n",
      "0  2025-03-24 13:50:20  2025-03-24 13:50:20  \n",
      "1  2025-03-24 13:50:20  2025-03-24 13:50:20  \n",
      "2  2025-03-24 13:50:20  2025-03-31 10:58:28  \n",
      "3  2025-03-24 13:50:20  2025-03-24 13:50:20  \n",
      "4  2025-03-24 13:50:20  2025-03-24 13:50:20  \n",
      "\n",
      "예측 결과 (description, predicted_emoji):\n",
      "                   description predicted_emoji\n",
      "0  에어컨을 26도로 설정하고 필요한 시간에만 켠다.               ❄\n",
      "1      집 안의 모든 조명을 형광등으로 유지한다.               💡\n",
      "2  🧺세탁물을 모아서 세탁기를 주 2~3회만 돌린다.               🧺\n",
      "3       전기밥솥 보온 기능을 하루 종일 켜둔다.               🔌\n",
      "4     사용하지 않는 전자제품의 플러그를 뽑아둔다.               🔌\n"
     ]
    }
   ],
   "source": [
    "import pandas as pd\n",
    "\n",
    "# 1. 새 CSV 파일 불러오기 (칼럼 이름이 \"description\"임을 확인)\n",
    "val_data = pd.read_csv(\"./bulkdata/db-2025-04-01.csv\")\n",
    "print(\"불러온 데이터 미리보기:\")\n",
    "print(val_data.head())\n",
    "\n",
    "# 2. 학습된 모델(예: classifier, embedder, idx_to_emoji)이 이미 존재한다고 가정하고, \n",
    "#    \"description\" 칼럼의 텍스트를 대상으로 예측 수행\n",
    "\n",
    "def predict_emoji(sentence):\n",
    "    with torch.no_grad():\n",
    "        # 문장 임베딩 계산 (기존에 사용한 embedder)\n",
    "        embedding = embedder.encode(sentence)\n",
    "        embedding_tensor = torch.tensor(embedding, dtype=torch.float)\n",
    "        # 모델 예측\n",
    "        output = classifier(embedding_tensor)\n",
    "        predicted_index = torch.argmax(output).item()\n",
    "        return idx_to_emoji[predicted_index]\n",
    "\n",
    "# 3. description 칼럼에 대해 예측 수행하여 새로운 컬럼에 저장\n",
    "val_data['predicted_emoji'] = val_data['description'].apply(lambda x: predict_emoji(x))\n",
    "\n",
    "# 4. 결과 출력\n",
    "print(\"\\n예측 결과 (description, predicted_emoji):\")\n",
    "print(val_data[['description', 'predicted_emoji']].head())\n",
    "\n",
    "# 5. 원한다면 결과를 CSV 파일로 저장할 수 있습니다.\n",
    "val_data.to_csv(\"./bulkdata/db_with_predictions.csv\", index=False)\n",
    "\n"
   ]
  },
  {
   "cell_type": "code",
   "execution_count": 29,
   "id": "513c3e9d-a4b7-4815-b449-60fd8216ffd6",
   "metadata": {},
   "outputs": [
    {
     "name": "stdout",
     "output_type": "stream",
     "text": [
      "정답 데이터 미리보기:\n",
      "   eco_answer_id  eco_quiz_id                  description  exp  \\\n",
      "0              5          164  에어컨을 26도로 설정하고 필요한 시간에만 켠다.   20   \n",
      "1              6          164      집 안의 모든 조명을 형광등으로 유지한다.  -15   \n",
      "2              7          164  🧺세탁물을 모아서 세탁기를 주 2~3회만 돌린다.   12   \n",
      "3              8          164       전기밥솥 보온 기능을 하루 종일 켜둔다.   -8   \n",
      "4              9          164     사용하지 않는 전자제품의 플러그를 뽑아둔다.   10   \n",
      "\n",
      "            created_at           updated_at answer_emoji  \n",
      "0  2025-03-24 13:50:20  2025-03-24 13:50:20            ❄  \n",
      "1  2025-03-24 13:50:20  2025-03-24 13:50:20            💡  \n",
      "2  2025-03-24 13:50:20  2025-03-31 10:58:28            🧺  \n",
      "3  2025-03-24 13:50:20  2025-03-24 13:50:20            🔌  \n",
      "4  2025-03-24 13:50:20  2025-03-24 13:50:20            🔌  \n",
      "\n",
      "전체 정확도: 41.05%\n",
      "\n",
      "오답 사례 (descripttion, answer_emoji, predicted_emoji):\n",
      "                      description answer_emoji predicted_emoji\n",
      "5      음식물 찌꺼기를 물로 씻어 하수구에 흘려보낸다.            🥘               💧\n",
      "7   기름 묻은 후라이팬을 키친타월로 닦은 후 설거지한다.            💧               🔥\n",
      "10           요리 중 냄비 뚜껑을 덮고 조리한다.            🛢               🧺\n",
      "15                      탄소배출권 거래제           ⚖️               🧺\n",
      "16                         에너지표시제           ⚖️               🧺\n"
     ]
    }
   ],
   "source": [
    "import pandas as pd\n",
    "\n",
    "# 1. 정답 파일 불러오기\n",
    "gt_data = pd.read_csv(\"./bulkdata/db_with_answer.csv\")\n",
    "print(\"정답 데이터 미리보기:\")\n",
    "print(gt_data.head())\n",
    "\n",
    "# 2. description 칼럼을 대상으로 모델 예측 수행\n",
    "# 이전에 정의한 predict_emoji 함수를 사용합니다.\n",
    "gt_data['predicted_emoji'] = gt_data['description'].apply(lambda x: predict_emoji(x))\n",
    "\n",
    "# 3. 예측 결과와 정답 비교\n",
    "gt_data['correct'] = gt_data['predicted_emoji'] == gt_data['answer_emoji']\n",
    "\n",
    "# 전체 정확도 계산\n",
    "accuracy = gt_data['correct'].mean()\n",
    "print(f\"\\n전체 정확도: {accuracy*100:.2f}%\")\n",
    "\n",
    "# 4. 오답 사례 출력 (원하는 경우)\n",
    "mismatches = gt_data[~gt_data['correct']]\n",
    "print(\"\\n오답 사례 (description, answer_emoji, predicted_emoji):\")\n",
    "print(mismatches[['description', 'answer_emoji', 'predicted_emoji']].head())\n",
    "\n",
    "# 5. 결과를 CSV 파일로 저장 (원하는 경우)\n",
    "gt_data.to_csv(\"db_with_predictions_and_answer_comparison.csv\", index=False)\n"
   ]
  },
  {
   "cell_type": "code",
   "execution_count": 31,
   "id": "01f128d7-1c5b-4ac4-9f3a-e3f874caa16e",
   "metadata": {},
   "outputs": [
    {
     "name": "stdout",
     "output_type": "stream",
     "text": [
      "불러온 데이터 미리보기:\n",
      "   eco_answer_id  eco_quiz_id                  description  exp  \\\n",
      "0              5          164  에어컨을 26도로 설정하고 필요한 시간에만 켠다.   20   \n",
      "1              6          164      집 안의 모든 조명을 형광등으로 유지한다.  -15   \n",
      "2              7          164  🧺세탁물을 모아서 세탁기를 주 2~3회만 돌린다.   12   \n",
      "3              8          164       전기밥솥 보온 기능을 하루 종일 켜둔다.   -8   \n",
      "4              9          164     사용하지 않는 전자제품의 플러그를 뽑아둔다.   10   \n",
      "\n",
      "            created_at           updated_at answer_emoji  \n",
      "0  2025-03-24 13:50:20  2025-03-24 13:50:20            ❄  \n",
      "1  2025-03-24 13:50:20  2025-03-24 13:50:20            💡  \n",
      "2  2025-03-24 13:50:20  2025-03-31 10:58:28            🧺  \n",
      "3  2025-03-24 13:50:20  2025-03-24 13:50:20            🔌  \n",
      "4  2025-03-24 13:50:20  2025-03-24 13:50:20            🔌  \n",
      "라벨 인코딩 결과: {'❄': 0, '💡': 1, '🧺': 2, '🔌': 3, '🥘': 4, '💧': 5, '🗑': 6, '🛢': 7, '🔥': 8, '⚖️': 9}\n"
     ]
    }
   ],
   "source": [
    "import pandas as pd\n",
    "import torch\n",
    "from torch.utils.data import Dataset, DataLoader\n",
    "import torch.nn as nn\n",
    "from sentence_transformers import SentenceTransformer\n",
    "\n",
    "# 1. CSV 파일 불러오기\n",
    "train_data = pd.read_csv(\"./bulkdata/db_with_answer.csv\")\n",
    "print(\"불러온 데이터 미리보기:\")\n",
    "print(train_data.head())\n",
    "\n",
    "# 2. answer_emoji를 라벨로 사용\n",
    "#    고유한 이모지에 번호를 부여하여 라벨 인코딩 진행\n",
    "emoji_to_idx = {emoji: idx for idx, emoji in enumerate(train_data[\"answer_emoji\"].unique())}\n",
    "idx_to_emoji = {idx: emoji for emoji, idx in emoji_to_idx.items()}\n",
    "train_data['label'] = train_data['answer_emoji'].apply(lambda x: emoji_to_idx[x])\n",
    "print(\"라벨 인코딩 결과:\", emoji_to_idx)\n",
    "\n",
    "# 3. 임베딩 계산을 위한 사전학습 모델 불러오기\n",
    "embedder = SentenceTransformer(\"paraphrase-MiniLM-L6-v2\")\n",
    "\n",
    "# 'description' 칼럼의 텍스트를 임베딩하고 새로운 칼럼에 저장\n",
    "train_data['embedding'] = train_data['description'].apply(lambda x: embedder.encode(x))\n",
    "\n",
    "# 4. PyTorch Dataset 정의\n",
    "class EmojiDataset(Dataset):\n",
    "    def __init__(self, df):\n",
    "        self.embeddings = list(df['embedding'])\n",
    "        self.labels = list(df['label'])\n",
    "        \n",
    "    def __len__(self):\n",
    "        return len(self.labels)\n",
    "    \n",
    "    def __getitem__(self, idx):\n",
    "        # 임베딩 벡터와 라벨을 텐서로 변환\n",
    "        embedding = torch.tensor(self.embeddings[idx], dtype=torch.float)\n",
    "        label = torch.tensor(self.labels[idx], dtype=torch.long)\n",
    "        return embedding, label\n",
    "\n",
    "dataset = EmojiDataset(train_data)\n",
    "dataloader = DataLoader(dataset, batch_size=32, shuffle=True)\n",
    "\n",
    "# 5. 분류기 모델 정의 (단순 선형 분류기)\n",
    "class EmojiClassifier(nn.Module):\n",
    "    def __init__(self, input_dim, num_classes):\n",
    "        super(EmojiClassifier, self).__init__()\n",
    "        self.fc = nn.Linear(input_dim, num_classes)\n",
    "        \n",
    "    def forward(self, x):\n",
    "        return self.fc(x)\n",
    "\n",
    "input_dim = len(train_data['embedding'].iloc[0])  # 임베딩 벡터 차원\n",
    "num_classes = len(emoji_to_idx)\n",
    "classifier = EmojiClassifier(input_dim, num_classes)\n",
    "\n",
    "# 6. 학습 설정\n",
    "criterion = nn.CrossEntropyLoss()\n",
    "optimizer = torch.optim.Adam(classifier.parameters(), lr=1e-3)\n",
    "num_epochs = 1000  # 에포크 수는 데이터 양에 따라 조정\n",
    "\n",
    "# 7. 재학습 (Training Loop)\n",
    "for epoch in range(num_epochs):\n",
    "    epoch_loss = 0.0\n",
    "    for batch_embeddings, batch_labels in dataloader:\n",
    "        outputs = classifier(batch_embeddings)\n",
    "        loss = criterion(outputs, batch_labels)\n",
    "        \n",
    "        optimizer.zero_grad()\n",
    "        loss.backward()\n",
    "        optimizer.step()\n",
    "        \n",
    "        epoch_loss += loss.item()\n",
    "        \n",
    "    avg_loss = epoch_loss / len(dataloader)\n",
    "    # print(f\"Epoch {epoch+1}/{num_epochs}, Loss: {avg_loss:.4f}\")\n",
    "\n",
    "# 재학습 완료 후, 모델을 저장하거나 추가 평가할 수 있습니다.\n"
   ]
  },
  {
   "cell_type": "code",
   "execution_count": 32,
   "id": "eec98923-f728-4f27-861d-b16f7b4ee781",
   "metadata": {},
   "outputs": [
    {
     "name": "stdout",
     "output_type": "stream",
     "text": [
      "  answer_emoji                  description                  combined_text\n",
      "0            ❄  에어컨을 26도로 설정하고 필요한 시간에만 켠다.  ❄ 에어컨을 26도로 설정하고 필요한 시간에만 켠다.\n",
      "1            💡      집 안의 모든 조명을 형광등으로 유지한다.      💡 집 안의 모든 조명을 형광등으로 유지한다.\n",
      "2            🧺  🧺세탁물을 모아서 세탁기를 주 2~3회만 돌린다.  🧺 🧺세탁물을 모아서 세탁기를 주 2~3회만 돌린다.\n",
      "3            🔌       전기밥솥 보온 기능을 하루 종일 켜둔다.       🔌 전기밥솥 보온 기능을 하루 종일 켜둔다.\n",
      "4            🔌     사용하지 않는 전자제품의 플러그를 뽑아둔다.     🔌 사용하지 않는 전자제품의 플러그를 뽑아둔다.\n"
     ]
    }
   ],
   "source": [
    "import pandas as pd\n",
    "\n",
    "# CSV 파일 불러오기\n",
    "df = pd.read_csv(\"./bulkdata/db_with_answer.csv\")\n",
    "\n",
    "# answer_emoji와 descripttion을 결합하여 새로운 컬럼 생성\n",
    "# (양쪽 사이에 공백 추가)\n",
    "df['combined_text'] = df['answer_emoji'] + \" \" + df['description']\n",
    "\n",
    "# 결과 미리보기\n",
    "print(df[['answer_emoji', 'description', 'combined_text']].head())\n",
    "\n",
    "# 새로운 CSV 파일로 저장 (원하는 경로 및 파일명으로 저장)\n",
    "df.to_csv(\"./bulkdata/db_with_combined_text.csv\", index=False)\n"
   ]
  },
  {
   "cell_type": "code",
   "execution_count": null,
   "id": "47e738d8-2758-4633-9e5b-920eeb7552fa",
   "metadata": {},
   "outputs": [],
   "source": []
  }
 ],
 "metadata": {
  "kernelspec": {
   "display_name": "Python 3 (ipykernel)",
   "language": "python",
   "name": "python3"
  },
  "language_info": {
   "codemirror_mode": {
    "name": "ipython",
    "version": 3
   },
   "file_extension": ".py",
   "mimetype": "text/x-python",
   "name": "python",
   "nbconvert_exporter": "python",
   "pygments_lexer": "ipython3",
   "version": "3.13.2"
  }
 },
 "nbformat": 4,
 "nbformat_minor": 5
}
